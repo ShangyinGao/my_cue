{
 "cells": [
  {
   "cell_type": "code",
   "execution_count": 78,
   "metadata": {},
   "outputs": [
    {
     "name": "stdout",
     "output_type": "stream",
     "text": [
      "2018-11-21 09:22:06.205778\n"
     ]
    }
   ],
   "source": [
    "import datetime\n",
    "from functools import wraps\n",
    "import time\n",
    "import timeit\n",
    "\n",
    "def printNow():\n",
    "    print(datetime.datetime.now())\n",
    "    \n",
    "printNow()"
   ]
  },
  {
   "cell_type": "code",
   "execution_count": 99,
   "metadata": {},
   "outputs": [
    {
     "name": "stdout",
     "output_type": "stream",
     "text": [
      "26\n",
      "35\n",
      "--------------------\n",
      "32\n",
      "112\n",
      "--------------------\n",
      "35\n",
      "class             function          \n",
      "                  __annotations__   \n",
      "                  __call__          \n",
      "__class__         __class__         \n",
      "                  __closure__       \n",
      "                  __code__          \n",
      "                  __defaults__      \n",
      "__delattr__       __delattr__       \n",
      "__dict__          __dict__          \n",
      "__dir__           __dir__           \n",
      "__doc__           __doc__           \n",
      "__eq__            __eq__            \n",
      "__format__        __format__        \n",
      "__ge__            __ge__            \n",
      "                  __get__           \n",
      "__getattribute__  __getattribute__  \n",
      "                  __globals__       \n",
      "__gt__            __gt__            \n",
      "__hash__          __hash__          \n",
      "__init__          __init__          \n",
      "__init_subclass__ __init_subclass__ \n",
      "                  __kwdefaults__    \n",
      "__le__            __le__            \n",
      "__lt__            __lt__            \n",
      "__module__        __module__        \n",
      "                  __name__          \n",
      "__ne__            __ne__            \n",
      "__new__           __new__           \n",
      "                  __qualname__      \n",
      "__reduce__        __reduce__        \n",
      "__reduce_ex__     __reduce_ex__     \n",
      "__repr__          __repr__          \n",
      "__setattr__       __setattr__       \n",
      "__sizeof__        __sizeof__        \n",
      "__str__           __str__           \n",
      "__subclasshook__  __subclasshook__  \n"
     ]
    }
   ],
   "source": [
    "## attributes for class and function\n",
    "class myclass():\n",
    "    pass\n",
    "\n",
    "\n",
    "def myfun():\n",
    "    pass\n",
    "\n",
    "\n",
    "print(len(dir(myclass)))\n",
    "print(len(dir(myfun)))\n",
    "print('-'*20)\n",
    "mc = myclass()\n",
    "print(mc.__sizeof__())\n",
    "print(myfun.__sizeof__())\n",
    "print('-'*20)\n",
    "\n",
    "mycla_attr = []\n",
    "for a in dir(myfun):\n",
    "    if a in dir(myclass):\n",
    "        mycla_attr.append(a);\n",
    "    else:\n",
    "        mycla_attr.append('')\n",
    "        \n",
    "print(len(mycla_attr))\n",
    "print('{:<18}{:<18}'.format('class', 'function'))\n",
    "for l, r in zip(mycla_attr, dir(myfun)):\n",
    "    print('{:<18}{:<18}'.format(l, r))"
   ]
  },
  {
   "cell_type": "code",
   "execution_count": 95,
   "metadata": {},
   "outputs": [
    {
     "name": "stdout",
     "output_type": "stream",
     "text": [
      "fun_decorator lasted: 0.5043880939483643\n",
      "myAmazingLoop\n",
      "112\n",
      "--------------------\n",
      "cls_decorator lasted: 0.5041840076446533\n",
      "32\n"
     ]
    }
   ],
   "source": [
    "## funciton decorator vs. class decorator\n",
    "def fun_decorator(fun):\n",
    "    @wraps(fun)\n",
    "    def wrapper(*a, **kw):\n",
    "        t1 = time.time()\n",
    "        fun(*a, **kw)\n",
    "        print('fun_decorator lasted:', time.time() - t1)\n",
    "        # todo: what's the difference: return or not return fun(*a, **kw)\n",
    "    return wrapper\n",
    "\n",
    "\n",
    "@fun_decorator\n",
    "def myAmazingLoop(n):\n",
    "    time.sleep(n)\n",
    "        \n",
    "myAmazingLoop(0.5)\n",
    "print(myAmazingLoop.__name__)\n",
    "print(myAmazingLoop.__sizeof__())\n",
    "  \n",
    "    \n",
    "##\n",
    "class cls_decorator(object):\n",
    "    def __init__(self, fun):\n",
    "        self._fun = fun\n",
    "        \n",
    "    def __call__(self, *a, **kw):\n",
    "        t1 = time.time()\n",
    "        self._fun(*a, **kw)\n",
    "        print('cls_decorator lasted:', time.time() - t1)\n",
    "        \n",
    "\n",
    "        \n",
    "@cls_decorator\n",
    "def myAmazingLoopCls(n):\n",
    "    time.sleep(n);\n",
    "    \n",
    "print('-'*20)\n",
    "myAmazingLoopCls(0.5)\n",
    "print(myAmazingLoopCls.__sizeof__())\n"
   ]
  },
  {
   "cell_type": "code",
   "execution_count": 105,
   "metadata": {},
   "outputs": [
    {
     "name": "stdout",
     "output_type": "stream",
     "text": [
      "wrapper...\n",
      "2018-11-21 09:42:25.243030\n",
      "printNow2\n"
     ]
    }
   ],
   "source": [
    "def myWrapper(fun):\n",
    "    @wraps(fun) # to keep original functions attributes\n",
    "    def log(*a, **kw):\n",
    "        print('wrapper...')\n",
    "        return fun(*a, **kw)\n",
    "    return log # return function object\n",
    "\n",
    "@myWrapper\n",
    "def printNow2():\n",
    "    '''\n",
    "    some docs\n",
    "    '''\n",
    "    print(datetime.datetime.now())\n",
    "   \n",
    "\n",
    "printNow2()\n",
    "print(printNow2.__name__)\n",
    "# print(printNow2.__doc__)\n",
    "# print()\n",
    "# print(printNow2())\n",
    "# print(printNow2.__call__())\n",
    "# print()\n",
    "# print(printNow2.__class__)\n",
    "# print(type(printNow2))\n",
    "# print()\n",
    "# print(printNow2.__getattribute__)\n",
    "# # dir(function_name) == function_name.__dir__()"
   ]
  },
  {
   "cell_type": "code",
   "execution_count": 3,
   "metadata": {},
   "outputs": [
    {
     "name": "stdout",
     "output_type": "stream",
     "text": [
      "Wrapper 3: wrapper...\n",
      "2018-11-20 21:46:10.806861\n"
     ]
    }
   ],
   "source": [
    "## if decorator want input parameter, need one more nested\n",
    "def myWrapper3(name):\n",
    "    def myWrapper(fun):\n",
    "        def log(*a, **kw):\n",
    "            print('{}: wrapper...'.format(name))\n",
    "            fun(*a, **kw)\n",
    "        return log\n",
    "    return myWrapper\n",
    "\n",
    "@myWrapper3('Wrapper 3')\n",
    "def printNow3():\n",
    "    print(datetime.datetime.now())\n",
    "    \n",
    "printNow3()"
   ]
  },
  {
   "cell_type": "code",
   "execution_count": 100,
   "metadata": {},
   "outputs": [
    {
     "name": "stdout",
     "output_type": "stream",
     "text": [
      "printNow\n",
      "printNow2\n",
      "log\n"
     ]
    }
   ],
   "source": [
    "## after decorator, name atrribute changed\n",
    "print(printNow.__name__)\n",
    "print(printNow2.__name__)\n",
    "print(printNow3.__name__)"
   ]
  },
  {
   "cell_type": "code",
   "execution_count": 119,
   "metadata": {},
   "outputs": [],
   "source": [
    "## logging module\n",
    "# ways to debug: print; assert / isinstance / hasattr...; logging; pdb (set_trace())\n",
    "import logging\n",
    "\n",
    "def myLogDecoratorPar(level_):\n",
    "    def myLogDecorator(fun):\n",
    "        @wraps(fun)\n",
    "        def wrapper(*a, **kw):\n",
    "            logging.basicConfig(level=level_)\n",
    "            logging.debug('{} run with parameters: {}, {}'.format(fun.__name__, a, kw))\n",
    "            return fun(*a, **kw)\n",
    "        return wrapper\n",
    "    return myLogDecorator\n",
    "\n",
    "\n",
    "@myLogDecoratorPar(logging.INFO)\n",
    "def myLogFun(*a, **kw):\n",
    "    pass\n",
    "\n",
    "myLogFun('dummy par')"
   ]
  },
  {
   "cell_type": "code",
   "execution_count": null,
   "metadata": {},
   "outputs": [],
   "source": []
  },
  {
   "cell_type": "code",
   "execution_count": 81,
   "metadata": {},
   "outputs": [
    {
     "name": "stdout",
     "output_type": "stream",
     "text": [
      "10\n",
      "100\n",
      "\n",
      "10\n",
      "100\n",
      "10\n"
     ]
    }
   ],
   "source": [
    "## @property: method -> attribute\n",
    "class Student(object):\n",
    "    def __init__(self, score_=-1):\n",
    "        self._score=score_\n",
    "        \n",
    "    def set_score(self, score_):\n",
    "        self._score=score_\n",
    "        \n",
    "    def get_score(self):\n",
    "        return self._score\n",
    "    \n",
    "    score = property(get_score, set_score) # do not change origin code\n",
    "\n",
    "s = Student(10)\n",
    "print(s.get_score())\n",
    "s.set_score(100)\n",
    "print(s.get_score())\n",
    "\n",
    "class Student_p(object):\n",
    "    def __init__(self, score_):\n",
    "        self._score = score_\n",
    "    \n",
    "    @property\n",
    "    def score(self):\n",
    "        return self._score\n",
    "    \n",
    "    @score.setter\n",
    "    def score(self, score_):\n",
    "        self._score = score_\n",
    "        \n",
    "\n",
    "print()\n",
    "s_p = Student_p(10)\n",
    "print(s_p.score)\n",
    "s_p.score = 100\n",
    "print(s_p.score)\n",
    "s_p._score = 10\n",
    "print(s_p.score)\n",
    "# print(dir(Student_p))\n",
    "# print(vars(Student_p))"
   ]
  },
  {
   "cell_type": "code",
   "execution_count": null,
   "metadata": {},
   "outputs": [],
   "source": []
  }
 ],
 "metadata": {
  "kernelspec": {
   "display_name": "Python 3",
   "language": "python",
   "name": "python3"
  },
  "language_info": {
   "codemirror_mode": {
    "name": "ipython",
    "version": 3
   },
   "file_extension": ".py",
   "mimetype": "text/x-python",
   "name": "python",
   "nbconvert_exporter": "python",
   "pygments_lexer": "ipython3",
   "version": "3.6.7"
  }
 },
 "nbformat": 4,
 "nbformat_minor": 2
}
