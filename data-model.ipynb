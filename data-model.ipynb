{
 "cells": [
  {
   "cell_type": "markdown",
   "metadata": {},
   "source": [
    "## some data model methods\n",
    "\n",
    "1. __ init __ \n",
    "2. __ repo __\n",
    "3. __ add __\n",
    "4. __ len __\n",
    "5. __ call __"
   ]
  },
  {
   "cell_type": "code",
   "execution_count": 120,
   "metadata": {},
   "outputs": [],
   "source": [
    "class Polynomial:\n",
    "    def __init__(self, *coeffs):\n",
    "        self.coeffs = coeffs\n",
    "        \n",
    "    def __repr__(self):\n",
    "        return \"Polynomail(*{!r})\".format(self.coeffs) # !r: convert the value according to __repo__ method\n",
    "    \n",
    "    def __add__(self, other):\n",
    "        return Polynomial(*(x + y for x, y in zip(self.coeffs, other.coeffs)))\n",
    "        # (x + y for x, y in zip(x_list, y_list)) will return a generator\n",
    "        \n",
    "    def __len__(self):\n",
    "        return len(self.coeffs)\n",
    "    \n",
    "    def __call__(self):\n",
    "        pass\n",
    "        \n",
    "p1 = Polynomial(1, 2, 3)\n",
    "p2 = Polynomial(3, 4, 3)"
   ]
  },
  {
   "cell_type": "code",
   "execution_count": 121,
   "metadata": {},
   "outputs": [
    {
     "name": "stdout",
     "output_type": "stream",
     "text": [
      "Polynomail(*(1, 2, 3))\n",
      "Polynomail(*(3, 4, 3))\n",
      "Polynomail(*(4, 6, 6))\n",
      "3\n"
     ]
    }
   ],
   "source": [
    "print(p1)\n",
    "print(p2)\n",
    "print(p1 + p2)\n",
    "print(len(p2))"
   ]
  },
  {
   "cell_type": "code",
   "execution_count": 139,
   "metadata": {},
   "outputs": [],
   "source": [
    "class tmpClass:\n",
    "    def __init__(self, n):\n",
    "        self.n = n\n",
    "        self.content = []\n",
    "        for i in range(n):\n",
    "            self.content.append(i*2)\n",
    "    \n",
    "    def __iter__(self):\n",
    "        for i in range(self.n):\n",
    "            yield i*i\n",
    "    \n",
    "    # __getitem__ is used when using object[idx]\n",
    "    def __getitem__(self, idx):\n",
    "        if (idx < 0 or idx > len(self.content)):\n",
    "            raise IndexError('outside region')\n",
    "        return self.content[idx]\n",
    "    \n",
    "    # __str__ is a method to be called when using print(object)\n",
    "    def __str__(self):\n",
    "        return str('__str__ method in tmpCalss')"
   ]
  },
  {
   "cell_type": "code",
   "execution_count": 147,
   "metadata": {},
   "outputs": [
    {
     "name": "stdout",
     "output_type": "stream",
     "text": [
      "8\n",
      "__str__ method in tmpCalss\n",
      "0\n",
      "1\n",
      "4\n"
     ]
    }
   ],
   "source": [
    "c1 = tmpClass(10)\n",
    "print(c1[4])\n",
    "print(c1)\n",
    "for i in tmpClass(3):\n",
    "    print(i)"
   ]
  },
  {
   "cell_type": "markdown",
   "metadata": {},
   "source": [
    "### format\n",
    "\n",
    "1. field name: number or keyboard, can be used multiple times\n",
    "2. coversion: \n",
    "    * can use {.2f} to specify precision\n",
    "    * s -> string; d -> decimal; f -> float; c -> char; b -> binary; o -> octal; e -> exponential \n",
    "3. alignment: **^** -> center; **<** -> left; **>** -> right\n",
    "\n",
    "examples below:"
   ]
  },
  {
   "cell_type": "code",
   "execution_count": 111,
   "metadata": {},
   "outputs": [
    {
     "data": {
      "text/plain": [
       "'person_a is a man and born in china, person_b is also a man and born in china'"
      ]
     },
     "execution_count": 111,
     "metadata": {},
     "output_type": "execute_result"
    }
   ],
   "source": [
    "# 1. \n",
    "'{0} is a {sex} and born in {2}, {1} is also a {sex} and born in {2}'.format('person_a', 'person_b', 'china', sex='man')"
   ]
  },
  {
   "cell_type": "code",
   "execution_count": 119,
   "metadata": {},
   "outputs": [
    {
     "data": {
      "text/plain": [
       "'1 euro is equal to 7.83 yuan today'"
      ]
     },
     "execution_count": 119,
     "metadata": {},
     "output_type": "execute_result"
    }
   ],
   "source": [
    "# 2.\n",
    "'1 euro is equal to {0:.2f} yuan today'.format(7.827467)"
   ]
  },
  {
   "cell_type": "code",
   "execution_count": 113,
   "metadata": {
    "scrolled": true
   },
   "outputs": [
    {
     "data": {
      "text/plain": [
       "'something |             abc              |         d|d'"
      ]
     },
     "execution_count": 113,
     "metadata": {},
     "output_type": "execute_result"
    }
   ],
   "source": [
    "# 3.\n",
    "'something |{0:^30s}|{1:>10}|{1:}'.format('abc', 'd')"
   ]
  },
  {
   "cell_type": "code",
   "execution_count": null,
   "metadata": {},
   "outputs": [],
   "source": []
  }
 ],
 "metadata": {
  "kernelspec": {
   "display_name": "Python 3",
   "language": "python",
   "name": "python3"
  },
  "language_info": {
   "codemirror_mode": {
    "name": "ipython",
    "version": 3
   },
   "file_extension": ".py",
   "mimetype": "text/x-python",
   "name": "python",
   "nbconvert_exporter": "python",
   "pygments_lexer": "ipython3",
   "version": "3.7.0"
  }
 },
 "nbformat": 4,
 "nbformat_minor": 2
}
