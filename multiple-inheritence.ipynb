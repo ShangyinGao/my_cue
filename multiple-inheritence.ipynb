{
 "cells": [
  {
   "cell_type": "code",
   "execution_count": 47,
   "metadata": {},
   "outputs": [
    {
     "name": "stdout",
     "output_type": "stream",
     "text": [
      "BaseClass, value =  3\n",
      "MultiTwo, value = 6\n",
      "BaseClass, value =  3\n",
      "PlusFive value = 8\n",
      "[<class '__main__.SubClass'>,\n",
      " <class '__main__.MultiTwo'>,\n",
      " <class '__main__.PlusFive'>,\n",
      " <class '__main__.BaseClass'>,\n",
      " <class 'object'>]\n"
     ]
    }
   ],
   "source": [
    "## same base class\n",
    "%reset -f\n",
    "from pprint import pprint\n",
    "class BaseClass(object):\n",
    "    def __init__(self, value):\n",
    "        self.value = value\n",
    "        print('BaseClass, value = ', self.value)\n",
    "        \n",
    "        \n",
    "class MultiTwo(BaseClass):\n",
    "    def __init__(self, value):\n",
    "        BaseClass.__init__(self, value)\n",
    "        self.value = self.value * 2\n",
    "        print('MultiTwo, value =', self.value)\n",
    "        \n",
    "        \n",
    "class PlusFive(BaseClass):\n",
    "    def __init__(self, value):\n",
    "        BaseClass.__init__(self, value)\n",
    "        self.value = self.value + 5\n",
    "        print('PlusFive value =', self.value)\n",
    "        \n",
    "        \n",
    "# subclass\n",
    "class SubClass(MultiTwo, PlusFive):\n",
    "    def __init__(self, value):\n",
    "        MultiTwo.__init__(self, value)\n",
    "        PlusFive.__init__(self, value)\n",
    "\n",
    "        \n",
    "    \n",
    "c = SubClass(3)\n",
    "pprint(SubClass.mro())"
   ]
  },
  {
   "cell_type": "code",
   "execution_count": 49,
   "metadata": {},
   "outputs": [
    {
     "name": "stdout",
     "output_type": "stream",
     "text": [
      "BaseClass, value =  3\n",
      "PlusFive value = 8\n",
      "MultiTwo, value = 16\n",
      "[<class '__main__.SubClass'>,\n",
      " <class '__main__.MultiTwo'>,\n",
      " <class '__main__.PlusFive'>,\n",
      " <class '__main__.BaseClass'>,\n",
      " <class 'object'>]\n"
     ]
    }
   ],
   "source": [
    "## use super() to avoid reinit base class\n",
    "%reset -f\n",
    "from pprint import pprint\n",
    "class BaseClass(object):\n",
    "    def __init__(self, value):\n",
    "        self.value = value\n",
    "        print('BaseClass, value = ', self.value)\n",
    "        \n",
    "        \n",
    "class MultiTwo(BaseClass):\n",
    "    def __init__(self, value):\n",
    "        super(MultiTwo, self).__init__(value)\n",
    "        self.value = self.value * 2\n",
    "        print('MultiTwo, value =', self.value)\n",
    "        \n",
    "        \n",
    "class PlusFive(BaseClass):\n",
    "    def __init__(self, value):\n",
    "        super(PlusFive, self).__init__(value)\n",
    "        self.value = self.value + 5\n",
    "        print('PlusFive value =', self.value)\n",
    "        \n",
    "        \n",
    "# subclass\n",
    "class SubClass(MultiTwo, PlusFive):\n",
    "    def __init__(self, value):\n",
    "        super(SubClass, self).__init__(value)\n",
    "\n",
    "        \n",
    "    \n",
    "c = SubClass(3)\n",
    "pprint(SubClass.mro())\n",
    "# 初始化方法的顺序是 print 的反顺序\n",
    "# 从左到右调用 __init__ 从右到做执行"
   ]
  },
  {
   "cell_type": "code",
   "execution_count": 48,
   "metadata": {},
   "outputs": [
    {
     "name": "stdout",
     "output_type": "stream",
     "text": [
      "MultiTwo getValue\n",
      "PlusFive setValue\n"
     ]
    }
   ],
   "source": [
    "## new class (BFS)\n",
    "%reset -f\n",
    "from pprint import pprint\n",
    "class BaseClass(object):\n",
    "    def getValue(self):\n",
    "        print('BaseClass getValue')\n",
    "        \n",
    "    def setValue(self):\n",
    "        print('BaseClass setValue')\n",
    "        \n",
    "        \n",
    "class MultiTwo(BaseClass):\n",
    "    def getValue(self):\n",
    "        print('MultiTwo getValue')\n",
    "\n",
    "        \n",
    "class PlusFive(BaseClass):\n",
    "    def getValue(self):\n",
    "        print('PlusFive getValue')\n",
    "        \n",
    "    def setValue(self):\n",
    "        print('PlusFive setValue')\n",
    "        \n",
    "        \n",
    "# subclass\n",
    "class SubClass(MultiTwo, PlusFive):\n",
    "    pass\n",
    "        \n",
    "    \n",
    "c = SubClass()\n",
    "c.getValue()\n",
    "c.setValue()\n",
    "\n"
   ]
  },
  {
   "cell_type": "code",
   "execution_count": 68,
   "metadata": {},
   "outputs": [
    {
     "name": "stdout",
     "output_type": "stream",
     "text": [
      "(<class '__main__.SubClass'>,\n",
      " <class '__main__.MultiTwo'>,\n",
      " <class '__main__.PlusFive'>,\n",
      " <class '__main__.BaseClass'>,\n",
      " <class 'object'>)\n",
      "[<class '__main__.SubClass'>,\n",
      " <class '__main__.MultiTwo'>,\n",
      " <class '__main__.PlusFive'>,\n",
      " <class '__main__.BaseClass'>,\n",
      " <class 'object'>]\n",
      "MultiTwo getValue\n",
      "PlusFive setValue\n"
     ]
    }
   ],
   "source": [
    "## classic class (DFS)\n",
    "%reset -f\n",
    "from pprint import pprint\n",
    "class BaseClass():\n",
    "    def getValue(self):\n",
    "        print('BaseClass getValue')\n",
    "        \n",
    "    def setValue(self):\n",
    "        print('BaseClass setValue')\n",
    "        \n",
    "        \n",
    "class MultiTwo(BaseClass):\n",
    "    def getValue(self):\n",
    "        print('MultiTwo getValue')\n",
    "\n",
    "        \n",
    "class PlusFive(BaseClass):\n",
    "    def getValue(self):\n",
    "        print('PlusFive getValue')\n",
    "        \n",
    "    def setValue(self):\n",
    "        print('PlusFive setValue')\n",
    "        \n",
    "        \n",
    "# subclass\n",
    "class SubClass(MultiTwo, PlusFive):\n",
    "    pass\n",
    "#     def __init__(self):\n",
    "#         self.value = 0\n",
    "      \n",
    "    \n",
    "c = SubClass()\n",
    "pprint(SubClass.__mro__)\n",
    "pprint(SubClass.mro())\n",
    "c.getValue()\n",
    "c.setValue()\n",
    "# result different than [janshu](https://www.jianshu.com/p/71c14e73c9d9)\n",
    "\n",
    "# [fixed here](https://blog.csdn.net/qwertyupoiuytr/article/details/56439134), because using Python 3.6"
   ]
  },
  {
   "cell_type": "code",
   "execution_count": 72,
   "metadata": {},
   "outputs": [
    {
     "data": {
      "text/plain": [
       "mappingproxy({'__module__': '__main__',\n",
       "              'getValue': <function __main__.MultiTwo.getValue(self)>,\n",
       "              '__doc__': None})"
      ]
     },
     "execution_count": 72,
     "metadata": {},
     "output_type": "execute_result"
    }
   ],
   "source": [
    "vars(MultiTwo)"
   ]
  },
  {
   "cell_type": "code",
   "execution_count": null,
   "metadata": {},
   "outputs": [],
   "source": []
  }
 ],
 "metadata": {
  "kernelspec": {
   "display_name": "Python 3",
   "language": "python",
   "name": "python3"
  },
  "language_info": {
   "codemirror_mode": {
    "name": "ipython",
    "version": 3
   },
   "file_extension": ".py",
   "mimetype": "text/x-python",
   "name": "python",
   "nbconvert_exporter": "python",
   "pygments_lexer": "ipython3",
   "version": "3.6.7"
  }
 },
 "nbformat": 4,
 "nbformat_minor": 2
}
