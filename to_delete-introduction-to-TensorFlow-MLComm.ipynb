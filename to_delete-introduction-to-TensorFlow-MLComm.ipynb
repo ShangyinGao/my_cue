{
 "cells": [
  {
   "cell_type": "code",
   "execution_count": 1,
   "metadata": {},
   "outputs": [
    {
     "name": "stdout",
     "output_type": "stream",
     "text": [
      "1.12.0\n"
     ]
    }
   ],
   "source": [
    "import tensorflow as tf\n",
    "import numpy as np\n",
    "# tf.enable_eager_execution()\n",
    "\n",
    "print(tf.__version__)"
   ]
  },
  {
   "cell_type": "code",
   "execution_count": 18,
   "metadata": {},
   "outputs": [
    {
     "name": "stdout",
     "output_type": "stream",
     "text": [
      "<class 'tensorflow.python.framework.ops.Tensor'>\n",
      "[30. 36. 42.]\n"
     ]
    },
    {
     "data": {
      "text/plain": [
       "<tensorflow.python.summary.writer.writer.FileWriter at 0x7f78e04f4dd8>"
      ]
     },
     "execution_count": 18,
     "metadata": {},
     "output_type": "execute_result"
    }
   ],
   "source": [
    "tf.reset_default_graph()\n",
    "\n",
    "a_np = np.array([5., 6., 7.], dtype=np.float64)\n",
    "a = tf.constant(a_np, dtype=tf.float64, name='a')\n",
    "print(type(a))\n",
    "b = tf.constant(6.0, dtype=tf.float64, name='b')\n",
    "c = tf.multiply(a, b)\n",
    "# sess = tf.Session()\n",
    "# print(type(c))\n",
    "# print(c.dtype)\n",
    "# print(sess.run(c))\n",
    "\n",
    "# sess.close()\n",
    "\n",
    "with tf.Session() as sess:\n",
    "    print(sess.run(c))\n",
    "    \n",
    "tf.summary.FileWriter('/tmp/jupyter-notebook/', tf.get_default_graph())"
   ]
  },
  {
   "cell_type": "code",
   "execution_count": 13,
   "metadata": {},
   "outputs": [],
   "source": [
    "## eager execution\n",
    "# if enabled eager excution the output would be the result not type\n",
    "\n",
    "# a_eager = tf.constant([1., 2.])\n",
    "# b_eager = tf.constant([3.])\n",
    "# print(a_eager * b_eager)"
   ]
  },
  {
   "cell_type": "code",
   "execution_count": 20,
   "metadata": {},
   "outputs": [
    {
     "name": "stdout",
     "output_type": "stream",
     "text": [
      "[7, 28, 27, 27]\n"
     ]
    },
    {
     "data": {
      "text/plain": [
       "<tensorflow.python.summary.writer.writer.FileWriter at 0x7f78e0501cc0>"
      ]
     },
     "execution_count": 20,
     "metadata": {},
     "output_type": "execute_result"
    }
   ],
   "source": [
    "## example 1\n",
    "tf.reset_default_graph()\n",
    "\n",
    "a1 = tf.constant(3 + 4, name='a1')\n",
    "b1 = tf.multiply(a1, 4, name='b1')\n",
    "c1 = tf.subtract(b1, 1, name='c1')\n",
    "c2 = b1 - 1\n",
    "\n",
    "with tf.Session() as sess:\n",
    "    print(sess.run([a1, b1, c1, c2]))\n",
    "\n",
    "tf.summary.FileWriter('/tmp/jupyter-notebook', tf.get_default_graph())"
   ]
  },
  {
   "cell_type": "code",
   "execution_count": 9,
   "metadata": {},
   "outputs": [
    {
     "name": "stdout",
     "output_type": "stream",
     "text": [
      "<tf.Variable 'a:0' shape=(2, 1) dtype=int32_ref>\n",
      "<tf.Variable 'b:0' shape=(1, 2) dtype=int32_ref>\n",
      "[array([[5],\n",
      "       [6]], dtype=int32), array([[3, 4]], dtype=int32), array([[ 8,  9],\n",
      "       [ 9, 10]], dtype=int32)]\n"
     ]
    }
   ],
   "source": [
    "## tf.Variable()\n",
    "tf.reset_default_graph()\n",
    "a = tf.get_variable('a', initializer=tf.constant([5, 6], shape=(2, 1)))\n",
    "b = tf.get_variable('b', initializer=tf.constant([3, 4], shape=(1, 2)))\n",
    "c = a + b\n",
    "\n",
    "print(a)\n",
    "print(b)\n",
    "\n",
    "with tf.Session() as sess:\n",
    "    writer = tf.summary.FileWriter('/tmp/jupyter-notebook', tf.get_default_graph())\n",
    "    sess.run(tf.global_variables_initializer())\n",
    "    print(sess.run([a, b, c]))"
   ]
  },
  {
   "cell_type": "code",
   "execution_count": 12,
   "metadata": {},
   "outputs": [
    {
     "name": "stdout",
     "output_type": "stream",
     "text": [
      "[array([[3., 4.],\n",
      "       [4., 5.]], dtype=float32)]\n"
     ]
    }
   ],
   "source": [
    "## tf.placeholders\n",
    "# reduce operation like `reduce_sum` ist used to reduce rank of a tensor\n",
    "tf.reset_default_graph()\n",
    "\n",
    "a = tf.placeholder(tf.float32, (1, 2), 'a')\n",
    "b = tf.placeholder(tf.float32, (2, 1), 'b')\n",
    "c = tf.add(a, b, name='c')\n",
    "\n",
    "with tf.Session() as sess:\n",
    "    writer = tf.summary.FileWriter('/tmp/jupyter-notebook', tf.get_default_graph())\n",
    "    print(sess.run([c], feed_dict={a: [[2, 3]], b: [[1], [2]]}))"
   ]
  },
  {
   "cell_type": "code",
   "execution_count": null,
   "metadata": {},
   "outputs": [],
   "source": []
  }
 ],
 "metadata": {
  "kernelspec": {
   "display_name": "Python 3",
   "language": "python",
   "name": "python3"
  },
  "language_info": {
   "codemirror_mode": {
    "name": "ipython",
    "version": 3
   },
   "file_extension": ".py",
   "mimetype": "text/x-python",
   "name": "python",
   "nbconvert_exporter": "python",
   "pygments_lexer": "ipython3",
   "version": "3.6.6"
  }
 },
 "nbformat": 4,
 "nbformat_minor": 2
}
