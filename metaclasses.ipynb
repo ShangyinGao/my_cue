{
 "cells": [
  {
   "cell_type": "markdown",
   "metadata": {},
   "source": [
    "## metaclasses\n",
    "\n",
    "1. decorator\n",
    "2. generator\n",
    "3. context manager"
   ]
  },
  {
   "cell_type": "markdown",
   "metadata": {},
   "source": [
    "1. in `library.py` and `user.py` code"
   ]
  },
  {
   "cell_type": "code",
   "execution_count": 4,
   "metadata": {},
   "outputs": [
    {
     "name": "stdout",
     "output_type": "stream",
     "text": [
      "  3           0 LOAD_BUILD_CLASS\n",
      "              2 LOAD_CONST               1 (<code object Base at 0x10bfed540, file \"<ipython-input-4-a7655e18b767>\", line 3>)\n",
      "              4 LOAD_CONST               2 ('Base')\n",
      "              6 MAKE_FUNCTION            0\n",
      "              8 LOAD_CONST               2 ('Base')\n",
      "             10 CALL_FUNCTION            2\n",
      "             12 STORE_FAST               0 (Base)\n",
      "             14 LOAD_CONST               0 (None)\n",
      "             16 RETURN_VALUE\n",
      "\n",
      "Disassembly of <code object Base at 0x10bfed540, file \"<ipython-input-4-a7655e18b767>\", line 3>:\n",
      "  3           0 LOAD_NAME                0 (__name__)\n",
      "              2 STORE_NAME               1 (__module__)\n",
      "              4 LOAD_CONST               0 ('_.<locals>.Base')\n",
      "              6 STORE_NAME               2 (__qualname__)\n",
      "\n",
      "  4           8 LOAD_CONST               1 (None)\n",
      "             10 RETURN_VALUE\n"
     ]
    }
   ],
   "source": [
    "# 2. dis module\n",
    "def _():\n",
    "    class Base:\n",
    "        pass\n",
    "    \n",
    "\n",
    "from dis import dis\n",
    "dis(_)\n",
    "\n",
    "# 2. in `libary.py` and `user.py` code"
   ]
  },
  {
   "cell_type": "code",
   "execution_count": 134,
   "metadata": {},
   "outputs": [
    {
     "name": "stdout",
     "output_type": "stream",
     "text": [
      "<class 'type'>\n",
      "<class 'type'>\n"
     ]
    }
   ],
   "source": [
    "# metaclass\n",
    "\n",
    "# most cases, the object.__class__ is type\n",
    "# myClassA = type(myClassA, (), ...)\n",
    "class myClassA:\n",
    "    def myFun(*a, **kw):\n",
    "        pass\n",
    "\n",
    "\n",
    "print(myClassA.__class__)\n",
    "t = myClassa.__class__\n",
    "print(t.__class__)\n",
    "\n",
    "\n",
    "## but if\n",
    "class metaClass(type):\n",
    "    pass\n",
    "\n",
    "class myClassB(metaclass = metaClass):\n",
    "    pass\n",
    "\n",
    "# myClassB = metaClass(myClassB, (), ...)"
   ]
  },
  {
   "cell_type": "code",
   "execution_count": null,
   "metadata": {},
   "outputs": [],
   "source": []
  },
  {
   "cell_type": "code",
   "execution_count": 164,
   "metadata": {},
   "outputs": [
    {
     "name": "stdout",
     "output_type": "stream",
     "text": [
      "A constructor\n",
      "C constructor\n",
      "A destructor\n",
      "C destructor\n"
     ]
    }
   ],
   "source": [
    "# super\n",
    "class A:\n",
    "    def __init__(self):\n",
    "        print('A constructor')\n",
    "    \n",
    "    def __del__(self):\n",
    "        print('A destructor')\n",
    "        \n",
    "\n",
    "class B:\n",
    "    def __init__(self):\n",
    "        print('B constructor')\n",
    "    \n",
    "    def __del__(self):\n",
    "        print('C destructor')\n",
    "        \n",
    "        \n",
    "class C(A, B):\n",
    "    def __init__(self):\n",
    "        super().__init__()\n",
    "        print('C constructor')\n",
    "    \n",
    "    def __del__(self):\n",
    "        super().__del__()\n",
    "        print('C destructor')\n",
    "        \n",
    "        \n",
    "c = C()"
   ]
  },
  {
   "cell_type": "code",
   "execution_count": null,
   "metadata": {},
   "outputs": [],
   "source": []
  },
  {
   "cell_type": "code",
   "execution_count": null,
   "metadata": {},
   "outputs": [],
   "source": []
  }
 ],
 "metadata": {
  "kernelspec": {
   "display_name": "Python 3",
   "language": "python",
   "name": "python3"
  },
  "language_info": {
   "codemirror_mode": {
    "name": "ipython",
    "version": 3
   },
   "file_extension": ".py",
   "mimetype": "text/x-python",
   "name": "python",
   "nbconvert_exporter": "python",
   "pygments_lexer": "ipython3",
   "version": "3.6.7"
  }
 },
 "nbformat": 4,
 "nbformat_minor": 2
}
