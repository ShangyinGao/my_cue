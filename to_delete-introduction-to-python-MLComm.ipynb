{
 "cells": [
  {
   "cell_type": "code",
   "execution_count": 4,
   "metadata": {},
   "outputs": [],
   "source": [
    "import numpy as np"
   ]
  },
  {
   "cell_type": "code",
   "execution_count": 19,
   "metadata": {},
   "outputs": [
    {
     "name": "stdout",
     "output_type": "stream",
     "text": [
      "(2,)\n",
      "(2, 2)\n",
      "[[11  7]\n",
      " [13  9]]\n"
     ]
    }
   ],
   "source": [
    "## broadcast\n",
    "left = np.array([10, 5])\n",
    "right = np.array([[1, 2], [3, 4]])\n",
    "print(left.shape)\n",
    "print(right.shape)\n",
    "print(left+right)"
   ]
  },
  {
   "cell_type": "code",
   "execution_count": 11,
   "metadata": {},
   "outputs": [
    {
     "name": "stdout",
     "output_type": "stream",
     "text": [
      "[[1 2]\n",
      " [3 4]]\n",
      "\n",
      "[1 3]\n",
      "\n",
      "[[10  2]\n",
      " [ 3  4]]\n"
     ]
    }
   ],
   "source": [
    "## reference\n",
    "a = np.array([[1, 2], [3, 4]])\n",
    "print(a)\n",
    "print()\n",
    "b = a[:, 0]\n",
    "print(b)\n",
    "print()\n",
    "b[0] = 10\n",
    "print(a)"
   ]
  },
  {
   "cell_type": "code",
   "execution_count": 21,
   "metadata": {},
   "outputs": [
    {
     "name": "stdout",
     "output_type": "stream",
     "text": [
      "key not exist in dict\n"
     ]
    }
   ],
   "source": [
    "## LBYL: look before you leap\n",
    "my_dict = {'name': 'zimu', 'age': 18}\n",
    "try:\n",
    "    gender = my_dict['gender']\n",
    "except KeyError:\n",
    "    print('key not exist in dict')\n",
    "    place = None"
   ]
  },
  {
   "cell_type": "code",
   "execution_count": 31,
   "metadata": {},
   "outputs": [
    {
     "name": "stdout",
     "output_type": "stream",
     "text": [
      "(10,)\n",
      "[1.  1.1 1.2 1.3 1.4 1.5 1.6 1.7 1.8 1.9]\n",
      "(10,)\n",
      "(10,)\n",
      "[1.  1.1 1.2 1.3 1.4 1.5 1.6 1.7 1.8 1.9]\n"
     ]
    }
   ],
   "source": [
    "## conj\n",
    "conj_origin = np.arange(1., 2., 0.1)\n",
    "print(conj_origin.shape)\n",
    "print(conj_origin)\n",
    "conj = conj_origin.conj()\n",
    "print(conj.shape)\n",
    "print(conj_origin.conj())"
   ]
  },
  {
   "cell_type": "code",
   "execution_count": null,
   "metadata": {},
   "outputs": [],
   "source": [
    "## scipy\n",
    "# main scipy module:\n",
    "# 1. integrate\n",
    "# 2. optimize\n",
    "# 3. linalg\n",
    "# 4. stats\n",
    "\n",
    "## pandas"
   ]
  }
 ],
 "metadata": {
  "kernelspec": {
   "display_name": "Python 3",
   "language": "python",
   "name": "python3"
  },
  "language_info": {
   "codemirror_mode": {
    "name": "ipython",
    "version": 3
   },
   "file_extension": ".py",
   "mimetype": "text/x-python",
   "name": "python",
   "nbconvert_exporter": "python",
   "pygments_lexer": "ipython3",
   "version": "3.6.7"
  }
 },
 "nbformat": 4,
 "nbformat_minor": 2
}
