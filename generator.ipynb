{
 "cells": [
  {
   "cell_type": "code",
   "execution_count": 22,
   "metadata": {},
   "outputs": [
    {
     "name": "stdout",
     "output_type": "stream",
     "text": [
      "hello\n",
      "                                              zimu\n",
      "hello world\n",
      "                                                19\n",
      "hello zimu\n",
      "                                                19\n"
     ]
    }
   ],
   "source": [
    "## print using str.rjust() to format\n",
    "from builtins import print as _print\n",
    "__myname__ = 'zimu'\n",
    "__myage__ = '19'\n",
    "def print (*a, first=[True], **kw): # what in first is not important\n",
    "    _print(*a, **kw)\n",
    "    if first and first.pop():\n",
    "        _print(__myname__.rjust(50))\n",
    "    else:\n",
    "        _print(__myage__.rjust(50))\n",
    "\n",
    "print('hello')\n",
    "print('hello world')\n",
    "print('hello zimu')"
   ]
  },
  {
   "cell_type": "code",
   "execution_count": 94,
   "metadata": {},
   "outputs": [
    {
     "name": "stdout",
     "output_type": "stream",
     "text": [
      "Help on function <lambda> in module __main__:\n",
      "\n",
      "<lambda> lambda x, y\n",
      "\n",
      "1=1=1=1=1=1=1=1=1=1=1=1=1=1=1=1=1=1=1=1=\n",
      "                                                19\n",
      "Help on function <lambda> in module __main__:\n",
      "\n",
      "<lambda> lambda x, y\n",
      "    add x and y\n",
      "\n",
      "2=2=2=2=2=2=2=2=2=2=2=2=2=2=2=2=2=2=2=2=\n",
      "                                                19\n",
      "13\n",
      "                                                19\n",
      "35\n",
      "                                                19\n",
      "3=3=3=3=3=3=3=3=3=3=3=3=3=3=3=3=3=3=3=3=\n",
      "                                                19\n",
      "13\n",
      "                                                19\n",
      "23\n",
      "                                                19\n"
     ]
    }
   ],
   "source": [
    "## three realization for `add` function\n",
    "# lambda\n",
    "\n",
    "myAdd = lambda x, y : x + y\n",
    "help(myAdd)\n",
    "myAdd.__doc__ = 'add x and y'\n",
    "print('1='*20)\n",
    "help(myAdd)\n",
    "\n",
    "# function\n",
    "z = 0\n",
    "def myAdd2(x, y, first=[True]):\n",
    "    global z # use `z=0` above\n",
    "    if first and first.pop():\n",
    "        z = 10\n",
    "    else:\n",
    "        z += 20\n",
    "    return x + y + z\n",
    "print('2='*20)\n",
    "print(myAdd2(1, 2))\n",
    "print(myAdd2(2, 3))\n",
    "\n",
    "# class\n",
    "class myAdd3(object):\n",
    "    def __init__(self, z_=10):\n",
    "        self.z = z_\n",
    "        pass\n",
    "    \n",
    "    def __call__(self, x, y):\n",
    "        return x + y + self.z\n",
    "#     @property\n",
    "#     def __call__(self):\n",
    "#         return self.z\n",
    "\n",
    "print('3='*20)\n",
    "myadd31 = myAdd3()\n",
    "print(myadd31(1, 2))\n",
    "myadd32 = myAdd3(20)\n",
    "print(myadd32(1, 2))"
   ]
  },
  {
   "cell_type": "code",
   "execution_count": 75,
   "metadata": {},
   "outputs": [
    {
     "name": "stdout",
     "output_type": "stream",
     "text": [
      "1\n",
      "                                                19\n",
      "1\n",
      "                                                19\n",
      "2\n",
      "                                                19\n",
      "3\n",
      "                                                19\n",
      "5\n",
      "                                                19\n"
     ]
    }
   ],
   "source": [
    "## fibonacci using print\n",
    "from collections import deque\n",
    "def myFibonacci(first=[True, True]):\n",
    "    if first and first.pop():\n",
    "        myFibonacci.last_two = deque(maxlen=2)\n",
    "        myFibonacci.last_two.append(1)\n",
    "        myFibonacci.last_two.append(1)\n",
    "#         print(\"last two\", myFibonacci.last_two.index(1))\n",
    "        return 1\n",
    "    else:\n",
    "        new_item = 0\n",
    "        for i in myFibonacci.last_two:\n",
    "            new_item += i \n",
    "        myFibonacci.last_two.append(new_item)\n",
    "        return new_item\n",
    "\n",
    "for _ in range(5):\n",
    "    print(myFibonacci())"
   ]
  },
  {
   "cell_type": "code",
   "execution_count": null,
   "metadata": {},
   "outputs": [],
   "source": [
    "## generator two realization: function and class\n",
    "# function\n",
    "from time import sleep\n"
   ]
  }
 ],
 "metadata": {
  "kernelspec": {
   "display_name": "Python 3",
   "language": "python",
   "name": "python3"
  },
  "language_info": {
   "codemirror_mode": {
    "name": "ipython",
    "version": 3
   },
   "file_extension": ".py",
   "mimetype": "text/x-python",
   "name": "python",
   "nbconvert_exporter": "python",
   "pygments_lexer": "ipython3",
   "version": "3.6.7"
  }
 },
 "nbformat": 4,
 "nbformat_minor": 2
}
